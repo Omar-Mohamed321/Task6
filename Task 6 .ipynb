{
 "cells": [
  {
   "cell_type": "code",
   "execution_count": 7,
   "id": "68dc1ae2-aad7-493a-bec3-90924d7f7b35",
   "metadata": {},
   "outputs": [
    {
     "name": "stdout",
     "output_type": "stream",
     "text": [
      "[10, 20, 30, 40, 50]\n",
      "[10 20 30 40 50]\n"
     ]
    }
   ],
   "source": [
    "import numpy as np\n",
    "my_list = [ 10 , 20 , 30 , 40 , 50 ]\n",
    "a = np.array (my_list)\n",
    "print(my_list)\n",
    "print(a)"
   ]
  },
  {
   "cell_type": "code",
   "execution_count": 11,
   "id": "6e4d33d3-879b-45da-9085-31b52ce8743a",
   "metadata": {},
   "outputs": [
    {
     "name": "stdout",
     "output_type": "stream",
     "text": [
      "[1 2 3 4 5]\n"
     ]
    }
   ],
   "source": [
    "import numpy as np\n",
    "my_list = [ 1 , 2 , 3 , 4 , 5 ]\n",
    "b = np.array(my_list)\n",
    "print(b)"
   ]
  },
  {
   "cell_type": "code",
   "execution_count": 31,
   "id": "b0e7f737-8f05-409a-a576-239da5f6bf5a",
   "metadata": {},
   "outputs": [
    {
     "name": "stdout",
     "output_type": "stream",
     "text": [
      "[11 22 33 44 55]\n",
      "[ 9 18 27 36 45]\n",
      "[ 10  40  90 160 250]\n",
      "[10. 10. 10. 10. 10.]\n",
      "10\n",
      "50\n",
      "550\n",
      "[[10]\n",
      " [20]\n",
      " [30]\n",
      " [40]\n",
      " [50]]\n"
     ]
    }
   ],
   "source": [
    "a = np.array ([ 10 , 20 , 30 , 40 , 50 ])\n",
    "b = np.array([ 1 , 2 , 3 , 4 , 5 ])\n",
    "dot_product = sum( a * b )\n",
    "reshape_array = a.reshape( 5 , 1 )\n",
    "print ( a + b )\n",
    "print ( a - b )\n",
    "print ( a * b )\n",
    "print ( a / b )\n",
    "print ( a.min())\n",
    "print ( a.max())\n",
    "print (dot_product)\n",
    "print(reshape_array)\n"
   ]
  },
  {
   "cell_type": "code",
   "execution_count": 11,
   "id": "190d7db1-96ad-400d-8d33-8645038ac879",
   "metadata": {},
   "outputs": [
    {
     "data": {
      "text/html": [
       "<div>\n",
       "<style scoped>\n",
       "    .dataframe tbody tr th:only-of-type {\n",
       "        vertical-align: middle;\n",
       "    }\n",
       "\n",
       "    .dataframe tbody tr th {\n",
       "        vertical-align: top;\n",
       "    }\n",
       "\n",
       "    .dataframe thead th {\n",
       "        text-align: right;\n",
       "    }\n",
       "</style>\n",
       "<table border=\"1\" class=\"dataframe\">\n",
       "  <thead>\n",
       "    <tr style=\"text-align: right;\">\n",
       "      <th></th>\n",
       "      <th>Name</th>\n",
       "      <th>Age</th>\n",
       "      <th>Grade</th>\n",
       "      <th>Marks</th>\n",
       "    </tr>\n",
       "  </thead>\n",
       "  <tbody>\n",
       "    <tr>\n",
       "      <th>0</th>\n",
       "      <td>Alice</td>\n",
       "      <td>20</td>\n",
       "      <td>A</td>\n",
       "      <td>85</td>\n",
       "    </tr>\n",
       "    <tr>\n",
       "      <th>1</th>\n",
       "      <td>Bob</td>\n",
       "      <td>22</td>\n",
       "      <td>B</td>\n",
       "      <td>78</td>\n",
       "    </tr>\n",
       "    <tr>\n",
       "      <th>2</th>\n",
       "      <td>Charlie</td>\n",
       "      <td>19</td>\n",
       "      <td>A</td>\n",
       "      <td>92</td>\n",
       "    </tr>\n",
       "    <tr>\n",
       "      <th>3</th>\n",
       "      <td>David</td>\n",
       "      <td>21</td>\n",
       "      <td>C</td>\n",
       "      <td>65</td>\n",
       "    </tr>\n",
       "    <tr>\n",
       "      <th>4</th>\n",
       "      <td>Eva</td>\n",
       "      <td>20</td>\n",
       "      <td>B</td>\n",
       "      <td>74</td>\n",
       "    </tr>\n",
       "  </tbody>\n",
       "</table>\n",
       "</div>"
      ],
      "text/plain": [
       "      Name  Age Grade  Marks\n",
       "0    Alice   20     A     85\n",
       "1      Bob   22     B     78\n",
       "2  Charlie   19     A     92\n",
       "3    David   21     C     65\n",
       "4      Eva   20     B     74"
      ]
     },
     "execution_count": 11,
     "metadata": {},
     "output_type": "execute_result"
    }
   ],
   "source": [
    "import pandas as pd \n",
    "student_data = [ [ 'Alice' ,  20 ,  'A'  , 85 ] ,\n",
    "                 [ 'Bob' ,  22 ,  'B' ,  78  ] ,\n",
    "                 [ 'Charlie' , 19 , 'A' , 92 ] ,\n",
    "                 [ 'David' , 21 , 'C' , 65 ] ,\n",
    "                 [ 'Eva' ,  20 , 'B' ,  74 ] ]\n",
    "\n",
    "df = pd.DataFrame(student_data, columns=['Name' , 'Age' , 'Grade' , 'Marks'])\n",
    "df\n"
   ]
  },
  {
   "cell_type": "code",
   "execution_count": 13,
   "id": "2ef2e92e-267c-4416-9211-dce9f3014ba4",
   "metadata": {},
   "outputs": [
    {
     "data": {
      "text/html": [
       "<div>\n",
       "<style scoped>\n",
       "    .dataframe tbody tr th:only-of-type {\n",
       "        vertical-align: middle;\n",
       "    }\n",
       "\n",
       "    .dataframe tbody tr th {\n",
       "        vertical-align: top;\n",
       "    }\n",
       "\n",
       "    .dataframe thead th {\n",
       "        text-align: right;\n",
       "    }\n",
       "</style>\n",
       "<table border=\"1\" class=\"dataframe\">\n",
       "  <thead>\n",
       "    <tr style=\"text-align: right;\">\n",
       "      <th></th>\n",
       "      <th>Name</th>\n",
       "      <th>Age</th>\n",
       "      <th>Grade</th>\n",
       "      <th>Marks</th>\n",
       "    </tr>\n",
       "  </thead>\n",
       "  <tbody>\n",
       "    <tr>\n",
       "      <th>0</th>\n",
       "      <td>Alice</td>\n",
       "      <td>20</td>\n",
       "      <td>A</td>\n",
       "      <td>85</td>\n",
       "    </tr>\n",
       "    <tr>\n",
       "      <th>1</th>\n",
       "      <td>Bob</td>\n",
       "      <td>22</td>\n",
       "      <td>B</td>\n",
       "      <td>78</td>\n",
       "    </tr>\n",
       "    <tr>\n",
       "      <th>2</th>\n",
       "      <td>Charlie</td>\n",
       "      <td>19</td>\n",
       "      <td>A</td>\n",
       "      <td>92</td>\n",
       "    </tr>\n",
       "  </tbody>\n",
       "</table>\n",
       "</div>"
      ],
      "text/plain": [
       "      Name  Age Grade  Marks\n",
       "0    Alice   20     A     85\n",
       "1      Bob   22     B     78\n",
       "2  Charlie   19     A     92"
      ]
     },
     "execution_count": 13,
     "metadata": {},
     "output_type": "execute_result"
    }
   ],
   "source": [
    "import pandas as pd \n",
    "student_data = [ [ 'Alice' ,  20 ,  'A'  , 85 ] ,\n",
    "                 [ 'Bob' ,  22 ,  'B' ,  78  ] ,\n",
    "                 [ 'Charlie' , 19 , 'A' , 92 ] ,\n",
    "                 [ 'David' , 21 , 'C' , 65 ] ,\n",
    "                 [ 'Eva' ,  20 , 'B' ,  74 ] ]\n",
    "\n",
    "df = pd.DataFrame(student_data, columns=['Name' , 'Age' , 'Grade' , 'Marks'])\n",
    "df\n",
    "df.iloc [0:3]"
   ]
  },
  {
   "cell_type": "code",
   "execution_count": 17,
   "id": "a9d2f943-2576-406e-8356-7ee91c75160d",
   "metadata": {},
   "outputs": [
    {
     "data": {
      "text/html": [
       "<div>\n",
       "<style scoped>\n",
       "    .dataframe tbody tr th:only-of-type {\n",
       "        vertical-align: middle;\n",
       "    }\n",
       "\n",
       "    .dataframe tbody tr th {\n",
       "        vertical-align: top;\n",
       "    }\n",
       "\n",
       "    .dataframe thead th {\n",
       "        text-align: right;\n",
       "    }\n",
       "</style>\n",
       "<table border=\"1\" class=\"dataframe\">\n",
       "  <thead>\n",
       "    <tr style=\"text-align: right;\">\n",
       "      <th></th>\n",
       "      <th>Name</th>\n",
       "      <th>Marks</th>\n",
       "    </tr>\n",
       "  </thead>\n",
       "  <tbody>\n",
       "    <tr>\n",
       "      <th>0</th>\n",
       "      <td>Alice</td>\n",
       "      <td>85</td>\n",
       "    </tr>\n",
       "    <tr>\n",
       "      <th>1</th>\n",
       "      <td>Bob</td>\n",
       "      <td>78</td>\n",
       "    </tr>\n",
       "    <tr>\n",
       "      <th>2</th>\n",
       "      <td>Charlie</td>\n",
       "      <td>92</td>\n",
       "    </tr>\n",
       "    <tr>\n",
       "      <th>3</th>\n",
       "      <td>David</td>\n",
       "      <td>65</td>\n",
       "    </tr>\n",
       "    <tr>\n",
       "      <th>4</th>\n",
       "      <td>Eva</td>\n",
       "      <td>74</td>\n",
       "    </tr>\n",
       "  </tbody>\n",
       "</table>\n",
       "</div>"
      ],
      "text/plain": [
       "      Name  Marks\n",
       "0    Alice     85\n",
       "1      Bob     78\n",
       "2  Charlie     92\n",
       "3    David     65\n",
       "4      Eva     74"
      ]
     },
     "execution_count": 17,
     "metadata": {},
     "output_type": "execute_result"
    }
   ],
   "source": [
    "import pandas as pd \n",
    "student_data = [ [ 'Alice' ,  20 ,  'A'  , 85 ] ,\n",
    "                 [ 'Bob' ,  22 ,  'B' ,  78  ] ,\n",
    "                 [ 'Charlie' , 19 , 'A' , 92 ] ,\n",
    "                 [ 'David' , 21 , 'C' , 65 ] ,\n",
    "                 [ 'Eva' ,  20 , 'B' ,  74 ] ]\n",
    "\n",
    "df = pd.DataFrame(student_data, columns=['Name' , 'Age' , 'Grade' , 'Marks'])\n",
    "df\n",
    "df.iloc [0:3]\n",
    "df [['Name' , 'Marks']]\n"
   ]
  },
  {
   "cell_type": "code",
   "execution_count": 23,
   "id": "8dfc630f-4a62-4085-9209-e54cad2c496d",
   "metadata": {},
   "outputs": [
    {
     "data": {
      "text/html": [
       "<div>\n",
       "<style scoped>\n",
       "    .dataframe tbody tr th:only-of-type {\n",
       "        vertical-align: middle;\n",
       "    }\n",
       "\n",
       "    .dataframe tbody tr th {\n",
       "        vertical-align: top;\n",
       "    }\n",
       "\n",
       "    .dataframe thead th {\n",
       "        text-align: right;\n",
       "    }\n",
       "</style>\n",
       "<table border=\"1\" class=\"dataframe\">\n",
       "  <thead>\n",
       "    <tr style=\"text-align: right;\">\n",
       "      <th></th>\n",
       "      <th>Name</th>\n",
       "      <th>Age</th>\n",
       "      <th>Grade</th>\n",
       "      <th>Marks</th>\n",
       "    </tr>\n",
       "  </thead>\n",
       "  <tbody>\n",
       "    <tr>\n",
       "      <th>0</th>\n",
       "      <td>Alice</td>\n",
       "      <td>20</td>\n",
       "      <td>A</td>\n",
       "      <td>85</td>\n",
       "    </tr>\n",
       "    <tr>\n",
       "      <th>2</th>\n",
       "      <td>Charlie</td>\n",
       "      <td>19</td>\n",
       "      <td>A</td>\n",
       "      <td>92</td>\n",
       "    </tr>\n",
       "  </tbody>\n",
       "</table>\n",
       "</div>"
      ],
      "text/plain": [
       "      Name  Age Grade  Marks\n",
       "0    Alice   20     A     85\n",
       "2  Charlie   19     A     92"
      ]
     },
     "execution_count": 23,
     "metadata": {},
     "output_type": "execute_result"
    }
   ],
   "source": [
    "import pandas as pd \n",
    "student_data = [ [ 'Alice' ,  20 ,  'A'  , 85 ] ,\n",
    "                 [ 'Bob' ,  22 ,  'B' ,  78  ] ,\n",
    "                 [ 'Charlie' , 19 , 'A' , 92 ] ,\n",
    "                 [ 'David' , 21 , 'C' , 65 ] ,\n",
    "                 [ 'Eva' ,  20 , 'B' ,  74 ] ]\n",
    "\n",
    "df = pd.DataFrame(student_data, columns=['Name' , 'Age' , 'Grade' , 'Marks'])\n",
    "df\n",
    "df.iloc [0:3]\n",
    "df [['Name' , 'Marks']]\n",
    "Grade = df[(df['Grade']=='A')]\n",
    "Grade"
   ]
  }
 ],
 "metadata": {
  "kernelspec": {
   "display_name": "Python [conda env:anaconda3]",
   "language": "python",
   "name": "conda-env-anaconda3-py"
  },
  "language_info": {
   "codemirror_mode": {
    "name": "ipython",
    "version": 3
   },
   "file_extension": ".py",
   "mimetype": "text/x-python",
   "name": "python",
   "nbconvert_exporter": "python",
   "pygments_lexer": "ipython3",
   "version": "3.12.7"
  }
 },
 "nbformat": 4,
 "nbformat_minor": 5
}
